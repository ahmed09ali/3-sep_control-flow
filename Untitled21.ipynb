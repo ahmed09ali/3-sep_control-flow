{
 "cells": [
  {
   "cell_type": "code",
   "execution_count": 1,
   "id": "ddab8684",
   "metadata": {},
   "outputs": [
    {
     "name": "stdout",
     "output_type": "stream",
     "text": [
      "Enter a number: 5\n",
      "Positive\n"
     ]
    }
   ],
   "source": [
    "def check_number(n):\n",
    "    if n > 0:\n",
    "        return \"Positive\"\n",
    "    elif n < 0:\n",
    "        return \"Negative\"\n",
    "    else:\n",
    "        return \"Zero\"\n",
    "\n",
    "number = float(input(\"Enter a number: \"))\n",
    "print(check_number(number))\n"
   ]
  },
  {
   "cell_type": "code",
   "execution_count": 2,
   "id": "aac4b96d",
   "metadata": {},
   "outputs": [
    {
     "name": "stdout",
     "output_type": "stream",
     "text": [
      "Enter your age: 21\n",
      "Eligible to vote\n"
     ]
    }
   ],
   "source": [
    "def check_voting_eligibility(age):\n",
    "    if age >= 18:\n",
    "        return \"Eligible to vote\"\n",
    "    else:\n",
    "        return \"Not eligible to vote\"\n",
    "\n",
    "age = int(input(\"Enter your age: \"))\n",
    "print(check_voting_eligibility(age))\n"
   ]
  },
  {
   "cell_type": "code",
   "execution_count": 3,
   "id": "8dd80691",
   "metadata": {},
   "outputs": [
    {
     "name": "stdout",
     "output_type": "stream",
     "text": [
      "Enter first number: 25\n",
      "Enter second number: 40\n",
      "The maximum number is: 40.0\n"
     ]
    }
   ],
   "source": [
    "def find_max(a, b):\n",
    "    if a > b:\n",
    "        return a\n",
    "    else:\n",
    "        return b\n",
    "\n",
    "a = float(input(\"Enter first number: \"))\n",
    "b = float(input(\"Enter second number: \"))\n",
    "print(\"The maximum number is:\", find_max(a, b))\n"
   ]
  },
  {
   "cell_type": "code",
   "execution_count": 4,
   "id": "067324ad",
   "metadata": {},
   "outputs": [
    {
     "name": "stdout",
     "output_type": "stream",
     "text": [
      "Enter a year: 2019\n",
      "Not a leap year\n"
     ]
    }
   ],
   "source": [
    "def is_leap_year(year):\n",
    "    if (year % 4 == 0 and year % 100 != 0) or (year % 400 == 0):\n",
    "        return \"Leap year\"\n",
    "    else:\n",
    "        return \"Not a leap year\"\n",
    "\n",
    "year = int(input(\"Enter a year: \"))\n",
    "print(is_leap_year(year))\n"
   ]
  },
  {
   "cell_type": "code",
   "execution_count": 5,
   "id": "f3c3fce1",
   "metadata": {},
   "outputs": [
    {
     "name": "stdout",
     "output_type": "stream",
     "text": [
      "Enter a character: ahmed\n",
      "Consonant\n"
     ]
    }
   ],
   "source": [
    "def check_vowel_or_consonant(char):\n",
    "    vowels = 'aeiouAEIOU'\n",
    "    if char in vowels:\n",
    "        return \"Vowel\"\n",
    "    else:\n",
    "        return \"Consonant\"\n",
    "\n",
    "char = input(\"Enter a character: \")\n",
    "print(check_vowel_or_consonant(char))\n"
   ]
  },
  {
   "cell_type": "code",
   "execution_count": 6,
   "id": "a1ee4911",
   "metadata": {},
   "outputs": [
    {
     "name": "stdout",
     "output_type": "stream",
     "text": [
      "Enter a number: 35\n",
      "Odd\n"
     ]
    }
   ],
   "source": [
    "def check_even_or_odd(n):\n",
    "    if n % 2 == 0:\n",
    "        return \"Even\"\n",
    "    else:\n",
    "        return \"Odd\"\n",
    "\n",
    "number = int(input(\"Enter a number: \"))\n",
    "print(check_even_or_odd(number))\n"
   ]
  },
  {
   "cell_type": "code",
   "execution_count": 7,
   "id": "a033d3ed",
   "metadata": {},
   "outputs": [
    {
     "name": "stdout",
     "output_type": "stream",
     "text": [
      "Enter a number: 25\n",
      "The absolute value is: 25.0\n"
     ]
    }
   ],
   "source": [
    "def calculate_absolute_value(n):\n",
    "    if n < 0:\n",
    "        return -n\n",
    "    else:\n",
    "        return n\n",
    "\n",
    "number = float(input(\"Enter a number: \"))\n",
    "print(\"The absolute value is:\", calculate_absolute_value(number))\n"
   ]
  },
  {
   "cell_type": "code",
   "execution_count": 8,
   "id": "83b677c7",
   "metadata": {},
   "outputs": [
    {
     "name": "stdout",
     "output_type": "stream",
     "text": [
      "Enter first number: 23\n",
      "Enter second number: 32\n",
      "Enter third number: 54\n",
      "The largest number is: 54.0\n"
     ]
    }
   ],
   "source": [
    "def find_largest_of_three(a, b, c):\n",
    "    if a >= b and a >= c:\n",
    "        return a\n",
    "    elif b >= a and b >= c:\n",
    "        return b\n",
    "    else:\n",
    "        return c\n",
    "\n",
    "a = float(input(\"Enter first number: \"))\n",
    "b = float(input(\"Enter second number: \"))\n",
    "c = float(input(\"Enter third number: \"))\n",
    "print(\"The largest number is:\", find_largest_of_three(a, b, c))\n"
   ]
  },
  {
   "cell_type": "code",
   "execution_count": 9,
   "id": "f5ed9b22",
   "metadata": {},
   "outputs": [
    {
     "name": "stdout",
     "output_type": "stream",
     "text": [
      "Enter a string: malayalam\n",
      "Palindrome\n"
     ]
    }
   ],
   "source": [
    "def check_palindrome(s):\n",
    "    if s == s[::-1]:\n",
    "        return \"Palindrome\"\n",
    "    else:\n",
    "        return \"Not a palindrome\"\n",
    "\n",
    "s = input(\"Enter a string: \")\n",
    "print(check_palindrome(s))\n"
   ]
  },
  {
   "cell_type": "code",
   "execution_count": 10,
   "id": "09b3f7d1",
   "metadata": {},
   "outputs": [
    {
     "name": "stdout",
     "output_type": "stream",
     "text": [
      "Enter the score: 55\n",
      "The grade is: F\n"
     ]
    }
   ],
   "source": [
    "def calculate_grade(score):\n",
    "    if score >= 90:\n",
    "        return \"A\"\n",
    "    elif score >= 80:\n",
    "        return \"B\"\n",
    "    elif score >= 70:\n",
    "        return \"C\"\n",
    "    elif score >= 60:\n",
    "        return \"D\"\n",
    "    else:\n",
    "        return \"F\"\n",
    "\n",
    "score = float(input(\"Enter the score: \"))\n",
    "print(\"The grade is:\", calculate_grade(score))\n"
   ]
  },
  {
   "cell_type": "code",
   "execution_count": 11,
   "id": "222b4281",
   "metadata": {},
   "outputs": [
    {
     "name": "stdout",
     "output_type": "stream",
     "text": [
      "Enter first number: 54\n",
      "Enter second number: 76\n",
      "Enter third number: 99\n",
      "The largest number is: 99.0\n"
     ]
    }
   ],
   "source": [
    "def find_largest_nested(a, b, c):\n",
    "    if a >= b:\n",
    "        if a >= c:\n",
    "            return a\n",
    "        else:\n",
    "            return c\n",
    "    else:\n",
    "        if b >= c:\n",
    "            return b\n",
    "        else:\n",
    "            return c\n",
    "\n",
    "a = float(input(\"Enter first number: \"))\n",
    "b = float(input(\"Enter second number: \"))\n",
    "c = float(input(\"Enter third number: \"))\n",
    "print(\"The largest number is:\", find_largest_nested(a, b, c))\n",
    "\n"
   ]
  },
  {
   "cell_type": "code",
   "execution_count": 12,
   "id": "0765ad18",
   "metadata": {},
   "outputs": [
    {
     "name": "stdout",
     "output_type": "stream",
     "text": [
      "Enter first side: 6\n",
      "Enter second side: 6\n",
      "Enter third side: 6\n",
      "The triangle is: Equilateral\n"
     ]
    }
   ],
   "source": [
    "def classify_triangle(a, b, c):\n",
    "    if a == b == c:\n",
    "        return \"Equilateral\"\n",
    "    elif a == b or b == c or a == c:\n",
    "        return \"Isosceles\"\n",
    "    else:\n",
    "        return \"Scalene\"\n",
    "\n",
    "a = float(input(\"Enter first side: \"))\n",
    "b = float(input(\"Enter second side: \"))\n",
    "c = float(input(\"Enter third side: \"))\n",
    "print(\"The triangle is:\", classify_triangle(a, b, c))\n"
   ]
  },
  {
   "cell_type": "code",
   "execution_count": 13,
   "id": "90786bc2",
   "metadata": {},
   "outputs": [
    {
     "name": "stdout",
     "output_type": "stream",
     "text": [
      "Enter a year: 2017\n",
      "Not a leap year, Not a century year\n"
     ]
    }
   ],
   "source": [
    "def check_year(year):\n",
    "    if (year % 4 == 0 and year % 100 != 0) or (year % 400 == 0):\n",
    "        leap_year = \"Leap year\"\n",
    "    else:\n",
    "        leap_year = \"Not a leap year\"\n",
    "\n",
    "    if year % 100 == 0:\n",
    "        century_year = \"Century year\"\n",
    "    else:\n",
    "        century_year = \"Not a century year\"\n",
    "    \n",
    "    return f\"{leap_year}, {century_year}\"\n",
    "\n",
    "year = int(input(\"Enter a year: \"))\n",
    "print(check_year(year))\n"
   ]
  },
  {
   "cell_type": "code",
   "execution_count": 14,
   "id": "c019205e",
   "metadata": {},
   "outputs": [
    {
     "name": "stdout",
     "output_type": "stream",
     "text": [
      "Enter a number: 55\n",
      "Positive\n"
     ]
    }
   ],
   "source": [
    "def check_number_sign(n):\n",
    "    if n > 0:\n",
    "        return \"Positive\"\n",
    "    elif n < 0:\n",
    "        return \"Negative\"\n",
    "    else:\n",
    "        return \"Zero\"\n",
    "\n",
    "number = float(input(\"Enter a number: \"))\n",
    "print(check_number_sign(number))\n"
   ]
  },
  {
   "cell_type": "code",
   "execution_count": 15,
   "id": "50941766",
   "metadata": {},
   "outputs": [
    {
     "name": "stdout",
     "output_type": "stream",
     "text": [
      "Enter your age: 19\n",
      "Teenager\n"
     ]
    }
   ],
   "source": [
    "def check_teenager(age):\n",
    "    if 13 <= age <= 19:\n",
    "        return \"Teenager\"\n",
    "    else:\n",
    "        return \"Not a teenager\"\n",
    "\n",
    "age = int(input(\"Enter your age: \"))\n",
    "print(check_teenager(age))\n"
   ]
  },
  {
   "cell_type": "code",
   "execution_count": 16,
   "id": "1f94cd04",
   "metadata": {},
   "outputs": [
    {
     "name": "stdout",
     "output_type": "stream",
     "text": [
      "Enter an angle: 90\n",
      "The angle is: Right angle\n"
     ]
    }
   ],
   "source": [
    "def classify_angle(angle):\n",
    "    if angle < 90:\n",
    "        return \"Acute angle\"\n",
    "    elif angle == 90:\n",
    "        return \"Right angle\"\n",
    "    elif angle < 180:\n",
    "        return \"Obtuse angle\"\n",
    "    else:\n",
    "        return \"Invalid angle\"\n",
    "\n",
    "angle = float(input(\"Enter an angle: \"))\n",
    "print(\"The angle is:\", classify_angle(angle))\n"
   ]
  },
  {
   "cell_type": "code",
   "execution_count": 17,
   "id": "42b01a0c",
   "metadata": {},
   "outputs": [
    {
     "name": "stdout",
     "output_type": "stream",
     "text": [
      "Enter coefficient a: 5\n",
      "Enter coefficient b: 4\n",
      "Enter coefficient c: 3\n",
      "No real roots\n"
     ]
    }
   ],
   "source": [
    "import math\n",
    "\n",
    "def calculate_roots(a, b, c):\n",
    "    discriminant = b**2 - 4*a*c\n",
    "    if discriminant > 0:\n",
    "        root1 = (-b + math.sqrt(discriminant)) / (2*a)\n",
    "        root2 = (-b - math.sqrt(discriminant)) / (2*a)\n",
    "        return f\"Two distinct roots: {root1}, {root2}\"\n",
    "    elif discriminant == 0:\n",
    "        root = -b / (2*a)\n",
    "        return f\"One root: {root}\"\n",
    "    else:\n",
    "        return \"No real roots\"\n",
    "\n",
    "a = float(input(\"Enter coefficient a: \"))\n",
    "b = float(input(\"Enter coefficient b: \"))\n",
    "c = float(input(\"Enter coefficient c: \"))\n",
    "print(calculate_roots(a, b, c))\n"
   ]
  },
  {
   "cell_type": "code",
   "execution_count": 18,
   "id": "83c1771f",
   "metadata": {},
   "outputs": [
    {
     "name": "stdout",
     "output_type": "stream",
     "text": [
      "Enter a number (1-7): 5\n",
      "Friday\n"
     ]
    }
   ],
   "source": [
    "def get_day_of_week(n):\n",
    "    days = [\"Monday\", \"Tuesday\", \"Wednesday\", \"Thursday\", \"Friday\", \"Saturday\", \"Sunday\"]\n",
    "    if 1 <= n <= 7:\n",
    "        return days[n-1]\n",
    "    else:\n",
    "        return \"Invalid input\"\n",
    "\n",
    "n = int(input(\"Enter a number (1-7): \"))\n",
    "print(get_day_of_week(n))\n"
   ]
  },
  {
   "cell_type": "code",
   "execution_count": 19,
   "id": "05909d22",
   "metadata": {},
   "outputs": [
    {
     "name": "stdout",
     "output_type": "stream",
     "text": [
      "Enter a year: 2015\n",
      "Not a leap year\n"
     ]
    }
   ],
   "source": [
    "def check_year(year):\n",
    "    if year % 400 == 0:\n",
    "        return \"Leap year, Divisible by 400\"\n",
    "    elif (year % 4 == 0 and year % 100 != 0):\n",
    "        return \"Leap year\"\n",
    "    else:\n",
    "        return \"Not a leap year\"\n",
    "\n",
    "year = int(input(\"Enter a year: \"))\n",
    "print(check_year(year))\n"
   ]
  },
  {
   "cell_type": "code",
   "execution_count": 20,
   "id": "b0fb1588",
   "metadata": {},
   "outputs": [
    {
     "name": "stdout",
     "output_type": "stream",
     "text": [
      "Enter a number: 2\n",
      "Prime number\n"
     ]
    }
   ],
   "source": [
    "def is_prime(n):\n",
    "    if n <= 1:\n",
    "        return \"Not a prime number\"\n",
    "    elif n == 2:\n",
    "        return \"Prime number\"\n",
    "    else:\n",
    "        for i in range(2, int(n**0.5) + 1):\n",
    "            if n % i == 0:\n",
    "                return \"Not a prime number\"\n",
    "        return \"Prime number\"\n",
    "\n",
    "number = int(input(\"Enter a number: \"))\n",
    "print(is_prime(number))\n"
   ]
  },
  {
   "cell_type": "code",
   "execution_count": 21,
   "id": "88185805",
   "metadata": {},
   "outputs": [
    {
     "name": "stdout",
     "output_type": "stream",
     "text": [
      "Enter the score: 65\n",
      "The grade is: D\n"
     ]
    }
   ],
   "source": [
    "def assign_grade(score):\n",
    "    if score >= 90:\n",
    "        return \"A\"\n",
    "    elif score >= 80:\n",
    "        return \"B\"\n",
    "    elif score >= 70:\n",
    "        return \"C\"\n",
    "    elif score >= 60:\n",
    "        return \"D\"\n",
    "    else:\n",
    "        return \"F\"\n",
    "\n",
    "score = float(input(\"Enter the score: \"))\n",
    "print(\"The grade is:\", assign_grade(score))\n"
   ]
  },
  {
   "cell_type": "code",
   "execution_count": 22,
   "id": "949c11f2",
   "metadata": {},
   "outputs": [
    {
     "name": "stdout",
     "output_type": "stream",
     "text": [
      "Enter first angle: 60\n",
      "Enter second angle: 70\n",
      "Enter third angle: 80\n",
      "The triangle is: Not a valid triangle\n"
     ]
    }
   ],
   "source": [
    "def classify_triangle_by_angles(a, b, c):\n",
    "    if a + b + c != 180:\n",
    "        return \"Not a valid triangle\"\n",
    "    elif a == b == c:\n",
    "        return \"Equilateral triangle\"\n",
    "    elif a == 90 or b == 90 or c == 90:\n",
    "        return \"Right triangle\"\n",
    "    elif a < 90 and b < 90 and c < 90:\n",
    "        return \"Acute triangle\"\n",
    "    else:\n",
    "        return \"Obtuse triangle\"\n",
    "\n",
    "a = float(input(\"Enter first angle: \"))\n",
    "b = float(input(\"Enter second angle: \"))\n",
    "c = float(input(\"Enter third angle: \"))\n",
    "print(\"The triangle is:\", classify_triangle_by_angles(a, b, c))\n"
   ]
  },
  {
   "cell_type": "code",
   "execution_count": 23,
   "id": "62884dca",
   "metadata": {},
   "outputs": [
    {
     "name": "stdout",
     "output_type": "stream",
     "text": [
      "Enter your BMI: 17\n",
      "You are: Underweight\n"
     ]
    }
   ],
   "source": [
    "def categorize_bmi(bmi):\n",
    "    if bmi < 18.5:\n",
    "        return \"Underweight\"\n",
    "    elif 18.5 <= bmi < 24.9:\n",
    "        return \"Normal weight\"\n",
    "    elif 25 <= bmi < 29.9:\n",
    "        return \"Overweight\"\n",
    "    else:\n",
    "        return \"Obese\"\n",
    "\n",
    "bmi = float(input(\"Enter your BMI: \"))\n",
    "print(\"You are:\", categorize_bmi(bmi))\n"
   ]
  },
  {
   "cell_type": "code",
   "execution_count": 24,
   "id": "8ba7e8ad",
   "metadata": {},
   "outputs": [
    {
     "name": "stdout",
     "output_type": "stream",
     "text": [
      "Enter a number: -45\n",
      "Negative\n"
     ]
    }
   ],
   "source": [
    "def check_number_sign(n):\n",
    "    if n > 0:\n",
    "        return \"Positive\"\n",
    "    elif n < 0:\n",
    "        return \"Negative\"\n",
    "    else:\n",
    "        return \"Zero\"\n",
    "\n",
    "number = float(input(\"Enter a number: \"))\n",
    "print(check_number_sign(number))\n"
   ]
  },
  {
   "cell_type": "code",
   "execution_count": 25,
   "id": "24c30ab0",
   "metadata": {},
   "outputs": [
    {
     "name": "stdout",
     "output_type": "stream",
     "text": [
      "Enter a character: ahmed\n",
      "The character is: Lowercase letter\n"
     ]
    }
   ],
   "source": [
    "def check_character_type(char):\n",
    "    if char.isupper():\n",
    "        return \"Uppercase letter\"\n",
    "    elif char.islower():\n",
    "        return \"Lowercase letter\"\n",
    "    else:\n",
    "        return \"Special character\"\n",
    "\n",
    "char = input(\"Enter a character: \")\n",
    "print(\"The character is:\", check_character_type(char))\n"
   ]
  },
  {
   "cell_type": "code",
   "execution_count": 26,
   "id": "88b489b9",
   "metadata": {},
   "outputs": [
    {
     "name": "stdout",
     "output_type": "stream",
     "text": [
      "Enter the purchase amount: 5000\n",
      "The discounted price is: 4500.0\n"
     ]
    }
   ],
   "source": [
    "def calculate_discounted_price(amount):\n",
    "    if amount > 1000:\n",
    "        discount = 0.1\n",
    "    elif amount > 500:\n",
    "        discount = 0.05\n",
    "    else:\n",
    "        discount = 0.02\n",
    "    return amount - (amount * discount)\n",
    "\n",
    "amount = float(input(\"Enter the purchase amount: \"))\n",
    "print(\"The discounted price is:\", calculate_discounted_price(amount))\n"
   ]
  },
  {
   "cell_type": "code",
   "execution_count": 27,
   "id": "d315b129",
   "metadata": {},
   "outputs": [
    {
     "name": "stdout",
     "output_type": "stream",
     "text": [
      "Enter the number of units consumed: 125\n",
      "The electricity bill is: 93.75\n"
     ]
    }
   ],
   "source": [
    "def calculate_electricity_bill(units):\n",
    "    if units <= 100:\n",
    "        rate = 0.5\n",
    "    elif units <= 200:\n",
    "        rate = 0.75\n",
    "    elif units <= 300:\n",
    "        rate = 1.0\n",
    "    else:\n",
    "        rate = 1.5\n",
    "    return units * rate\n",
    "\n",
    "units = int(input(\"Enter the number of units consumed: \"))\n",
    "print(\"The electricity bill is:\", calculate_electricity_bill(units))\n"
   ]
  },
  {
   "cell_type": "code",
   "execution_count": 28,
   "id": "e4e89923",
   "metadata": {},
   "outputs": [
    {
     "name": "stdout",
     "output_type": "stream",
     "text": [
      "Enter side a: 30\n",
      "Enter side b: 30\n",
      "Enter side c: 30\n",
      "Enter side d: 30\n",
      "Enter angle A: 90\n",
      "Enter angle B: 90\n",
      "Enter angle C: 90\n",
      "Enter angle D: 90\n",
      "The quadrilateral is: Square\n"
     ]
    }
   ],
   "source": [
    "def classify_quadrilateral(a, b, c, d, A, B, C, D):\n",
    "    if a == b == c == d:\n",
    "        if A == B == C == D == 90:\n",
    "            return \"Square\"\n",
    "        else:\n",
    "            return \"Rhombus\"\n",
    "    elif (a == c and b == d) and (A == B == C == D == 90):\n",
    "        return \"Rectangle\"\n",
    "    elif a == c and b == d:\n",
    "        return \"Parallelogram\"\n",
    "    else:\n",
    "        return \"Irregular quadrilateral\"\n",
    "\n",
    "a = float(input(\"Enter side a: \"))\n",
    "b = float(input(\"Enter side b: \"))\n",
    "c = float(input(\"Enter side c: \"))\n",
    "d = float(input(\"Enter side d: \"))\n",
    "A = float(input(\"Enter angle A: \"))\n",
    "B = float(input(\"Enter angle B: \"))\n",
    "C = float(input(\"Enter angle C: \"))\n",
    "D = float(input(\"Enter angle D: \"))\n",
    "print(\"The quadrilateral is:\", classify_quadrilateral(a, b, c, d, A, B, C, D))\n"
   ]
  },
  {
   "cell_type": "code",
   "execution_count": 29,
   "id": "ec88c07f",
   "metadata": {},
   "outputs": [
    {
     "name": "stdout",
     "output_type": "stream",
     "text": [
      "Enter the month (1-12): 10\n",
      "The season is: Autumn\n"
     ]
    }
   ],
   "source": [
    "def get_season(month):\n",
    "    if month in [12, 1, 2]:\n",
    "        return \"Winter\"\n",
    "    elif month in [3, 4, 5]:\n",
    "        return \"Spring\"\n",
    "    elif month in [6, 7, 8]:\n",
    "        return \"Summer\"\n",
    "    elif month in [9, 10, 11]:\n",
    "        return \"Autumn\"\n",
    "    else:\n",
    "        return \"Invalid month\"\n",
    "\n",
    "month = int(input(\"Enter the month (1-12): \"))\n",
    "print(\"The season is:\", get_season(month))\n"
   ]
  },
  {
   "cell_type": "code",
   "execution_count": 30,
   "id": "b4079b90",
   "metadata": {},
   "outputs": [
    {
     "name": "stdout",
     "output_type": "stream",
     "text": [
      "Enter a year: 2003\n",
      "Enter a month (1-12): 4\n",
      "Common year, 30 days in month\n"
     ]
    }
   ],
   "source": [
    "def classify_year_and_month(year, month):\n",
    "    if (year % 4 == 0 and year % 100 != 0) or (year % 400 == 0):\n",
    "        year_type = \"Leap year\"\n",
    "    else:\n",
    "        year_type = \"Common year\"\n",
    "    \n",
    "    if month in [4, 6, 9, 11]:\n",
    "        days_in_month = 30\n",
    "    elif month == 2:\n",
    "        days_in_month = 29 if year_type == \"Leap year\" else 28\n",
    "    elif month in [1, 3, 5, 7, 8, 10, 12]:\n",
    "        days_in_month = 31\n",
    "    else:\n",
    "        return \"Invalid month\"\n",
    "    \n",
    "    return f\"{year_type}, {days_in_month} days in month\"\n",
    "\n",
    "year = int(input(\"Enter a year: \"))\n",
    "month = int(input(\"Enter a month (1-12): \"))\n",
    "print(classify_year_and_month(year, month))\n"
   ]
  },
  {
   "cell_type": "code",
   "execution_count": 31,
   "id": "c4fa6440",
   "metadata": {},
   "outputs": [
    {
     "name": "stdout",
     "output_type": "stream",
     "text": [
      "Enter a number: 0\n",
      "Zero\n"
     ]
    }
   ],
   "source": [
    "def check_number(n):\n",
    "    if n > 0:\n",
    "        return \"Positive\"\n",
    "    elif n < 0:\n",
    "        return \"Negative\"\n",
    "    else:\n",
    "        return \"Zero\"\n",
    "\n",
    "number = float(input(\"Enter a number: \"))\n",
    "print(check_number(number))\n"
   ]
  },
  {
   "cell_type": "code",
   "execution_count": 32,
   "id": "d5a7d763",
   "metadata": {},
   "outputs": [
    {
     "name": "stdout",
     "output_type": "stream",
     "text": [
      "Enter your age: 21\n",
      "Eligible to vote\n"
     ]
    }
   ],
   "source": [
    "def check_voting_eligibility(age):\n",
    "    if age >= 18:\n",
    "        return \"Eligible to vote\"\n",
    "    else:\n",
    "        return \"Not eligible to vote\"\n",
    "\n",
    "age = int(input(\"Enter your age: \"))\n",
    "print(check_voting_eligibility(age))\n"
   ]
  },
  {
   "cell_type": "code",
   "execution_count": 33,
   "id": "15857db8",
   "metadata": {},
   "outputs": [
    {
     "name": "stdout",
     "output_type": "stream",
     "text": [
      "Enter first number: 50\n",
      "Enter second number: 100\n",
      "The maximum number is: 100.0\n"
     ]
    }
   ],
   "source": [
    "def find_max(a, b):\n",
    "    if a > b:\n",
    "        return a\n",
    "    else:\n",
    "        return b\n",
    "\n",
    "a = float(input(\"Enter first number: \"))\n",
    "b = float(input(\"Enter second number: \"))\n",
    "print(\"The maximum number is:\", find_max(a, b))\n"
   ]
  },
  {
   "cell_type": "code",
   "execution_count": 34,
   "id": "ae1cade5",
   "metadata": {},
   "outputs": [
    {
     "name": "stdout",
     "output_type": "stream",
     "text": [
      "Enter the score: 90\n",
      "The grade is: A\n"
     ]
    }
   ],
   "source": [
    "def calculate_grade(score):\n",
    "    if score >= 90:\n",
    "        return \"A\"\n",
    "    elif score >= 80:\n",
    "        return \"B\"\n",
    "    elif score >= 70:\n",
    "        return \"C\"\n",
    "    elif score >= 60:\n",
    "        return \"D\"\n",
    "    else:\n",
    "        return \"F\"\n",
    "\n",
    "score = float(input(\"Enter the score: \"))\n",
    "print(\"The grade is:\", calculate_grade(score))\n"
   ]
  },
  {
   "cell_type": "code",
   "execution_count": 35,
   "id": "fb0dcd02",
   "metadata": {},
   "outputs": [
    {
     "name": "stdout",
     "output_type": "stream",
     "text": [
      "Enter a year: 20114\n",
      "Not a leap year\n"
     ]
    }
   ],
   "source": [
    "def is_leap_year(year):\n",
    "    if (year % 4 == 0 and year % 100 != 0) or (year % 400 == 0):\n",
    "        return \"Leap year\"\n",
    "    else:\n",
    "        return \"Not a leap year\"\n",
    "\n",
    "year = int(input(\"Enter a year: \"))\n",
    "print(is_leap_year(year))\n",
    "\n"
   ]
  },
  {
   "cell_type": "code",
   "execution_count": 36,
   "id": "2a4bff14",
   "metadata": {},
   "outputs": [
    {
     "name": "stdout",
     "output_type": "stream",
     "text": [
      "Enter side a: 6\n",
      "Enter side b: 6\n",
      "Enter side c: 6\n",
      "The triangle is: Equilateral\n"
     ]
    }
   ],
   "source": [
    "def classify_triangle(a, b, c):\n",
    "    if a == b == c:\n",
    "        return \"Equilateral\"\n",
    "    elif a == b or b == c or a == c:\n",
    "        return \"Isosceles\"\n",
    "    else:\n",
    "        return \"Scalene\"\n",
    "\n",
    "a = float(input(\"Enter side a: \"))\n",
    "b = float(input(\"Enter side b: \"))\n",
    "c = float(input(\"Enter side c: \"))\n",
    "print(\"The triangle is:\", classify_triangle(a, b, c))\n"
   ]
  },
  {
   "cell_type": "code",
   "execution_count": 37,
   "id": "dbe9fa07",
   "metadata": {},
   "outputs": [
    {
     "name": "stdout",
     "output_type": "stream",
     "text": [
      "Enter first number: 50\n",
      "Enter second number: 60\n",
      "Enter third number: 70\n",
      "The largest number is: 70.0\n"
     ]
    }
   ],
   "source": [
    "def find_largest(a, b, c):\n",
    "    if a >= b and a >= c:\n",
    "        return a\n",
    "    elif b >= a and b >= c:\n",
    "        return b\n",
    "    else:\n",
    "        return c\n",
    "\n",
    "a = float(input(\"Enter first number: \"))\n",
    "b = float(input(\"Enter second number: \"))\n",
    "c = float(input(\"Enter third number: \"))\n",
    "print(\"The largest number is:\", find_largest(a, b, c))\n"
   ]
  },
  {
   "cell_type": "code",
   "execution_count": 38,
   "id": "3e301457",
   "metadata": {},
   "outputs": [
    {
     "name": "stdout",
     "output_type": "stream",
     "text": [
      "Enter a character: aeiou\n",
      "Vowel\n"
     ]
    }
   ],
   "source": [
    "def check_vowel_or_consonant(char):\n",
    "    vowels = 'aeiouAEIOU'\n",
    "    if char in vowels:\n",
    "        return \"Vowel\"\n",
    "    else:\n",
    "        return \"Consonant\"\n",
    "\n",
    "char = input(\"Enter a character: \")\n",
    "print(check_vowel_or_consonant(char))\n"
   ]
  },
  {
   "cell_type": "code",
   "execution_count": 39,
   "id": "4a9a457a",
   "metadata": {},
   "outputs": [
    {
     "name": "stdout",
     "output_type": "stream",
     "text": [
      "Enter the price of the item: 1000\n",
      "Enter the quantity: 5\n",
      "The total cost is: 4500.0\n"
     ]
    }
   ],
   "source": [
    "def calculate_total_cost(price, quantity):\n",
    "    total = price * quantity\n",
    "    if total > 1000:\n",
    "        discount = 0.1\n",
    "    elif total > 500:\n",
    "        discount = 0.05\n",
    "    else:\n",
    "        discount = 0.02\n",
    "    return total - (total * discount)\n",
    "\n",
    "price = float(input(\"Enter the price of the item: \"))\n",
    "quantity = int(input(\"Enter the quantity: \"))\n",
    "print(\"The total cost is:\", calculate_total_cost(price, quantity))\n"
   ]
  },
  {
   "cell_type": "code",
   "execution_count": 40,
   "id": "551c261f",
   "metadata": {},
   "outputs": [
    {
     "name": "stdout",
     "output_type": "stream",
     "text": [
      "Enter a number: 66\n",
      "Even\n"
     ]
    }
   ],
   "source": [
    "def check_even_or_odd(n):\n",
    "    if n % 2 == 0:\n",
    "        return \"Even\"\n",
    "    else:\n",
    "        return \"Odd\"\n",
    "\n",
    "number = int(input(\"Enter a number: \"))\n",
    "print(check_even_or_odd(number))\n"
   ]
  },
  {
   "cell_type": "code",
   "execution_count": 41,
   "id": "3e9dfa95",
   "metadata": {},
   "outputs": [
    {
     "name": "stdout",
     "output_type": "stream",
     "text": [
      "Enter coefficient a: 3\n",
      "Enter coefficient b: 4\n",
      "Enter coefficient c: 5\n",
      "No real roots\n"
     ]
    }
   ],
   "source": [
    "import math\n",
    "\n",
    "def calculate_roots(a, b, c):\n",
    "    discriminant = b**2 - 4*a*c\n",
    "    if discriminant > 0:\n",
    "        root1 = (-b + math.sqrt(discriminant)) / (2*a)\n",
    "        root2 = (-b - math.sqrt(discriminant)) / (2*a)\n",
    "        return f\"Two distinct roots: {root1}, {root2}\"\n",
    "    elif discriminant == 0:\n",
    "        root = -b / (2*a)\n",
    "        return f\"One root: {root}\"\n",
    "    else:\n",
    "        return \"No real roots\"\n",
    "\n",
    "a = float(input(\"Enter coefficient a: \"))\n",
    "b = float(input(\"Enter coefficient b: \"))\n",
    "c = float(input(\"Enter coefficient c: \"))\n",
    "print(calculate_roots(a, b, c))\n"
   ]
  },
  {
   "cell_type": "code",
   "execution_count": 42,
   "id": "6bd30b44",
   "metadata": {},
   "outputs": [
    {
     "name": "stdout",
     "output_type": "stream",
     "text": [
      "Enter a number (1-7): 6\n",
      "Saturday\n"
     ]
    }
   ],
   "source": [
    "def get_day_of_week(n):\n",
    "    days = [\"Monday\", \"Tuesday\", \"Wednesday\", \"Thursday\", \"Friday\", \"Saturday\", \"Sunday\"]\n",
    "    if 1 <= n <= 7:\n",
    "        return days[n-1]\n",
    "    else:\n",
    "        return \"Invalid input\"\n",
    "\n",
    "n = int(input(\"Enter a number (1-7): \"))\n",
    "print(get_day_of_week(n))\n"
   ]
  },
  {
   "cell_type": "code",
   "execution_count": 43,
   "id": "209b0266",
   "metadata": {},
   "outputs": [
    {
     "name": "stdout",
     "output_type": "stream",
     "text": [
      "Enter a number: 5\n",
      "The factorial of 5 is 120\n"
     ]
    }
   ],
   "source": [
    "def factorial(n):\n",
    "    if n == 0:\n",
    "        return 1\n",
    "    else:\n",
    "        return n * factorial(n - 1)\n",
    "\n",
    "number = int(input(\"Enter a number: \"))\n",
    "print(f\"The factorial of {number} is {factorial(number)}\")\n"
   ]
  },
  {
   "cell_type": "code",
   "execution_count": 44,
   "id": "fa387f22",
   "metadata": {},
   "outputs": [
    {
     "name": "stdout",
     "output_type": "stream",
     "text": [
      "Enter first number: 56\n",
      "Enter second number: 65\n",
      "Enter third number: 76\n",
      "The largest number is: 76.0\n"
     ]
    }
   ],
   "source": [
    "def find_largest(a, b, c):\n",
    "    if a >= b and a >= c:\n",
    "        return a\n",
    "    elif b >= a and b >= c:\n",
    "        return b\n",
    "    else:\n",
    "        return c\n",
    "\n",
    "a = float(input(\"Enter first number: \"))\n",
    "b = float(input(\"Enter second number: \"))\n",
    "c = float(input(\"Enter third number: \"))\n",
    "print(\"The largest number is:\", find_largest(a, b, c))\n"
   ]
  },
  {
   "cell_type": "code",
   "execution_count": 45,
   "id": "72809810",
   "metadata": {},
   "outputs": [
    {
     "name": "stdout",
     "output_type": "stream",
     "text": [
      "\n",
      "ATM Menu:\n",
      "1. Check Balance\n",
      "2. Deposit Money\n",
      "3. Withdraw Money\n",
      "4. Exit\n",
      "Enter your choice: 1\n",
      "Your balance is: $1000.0\n",
      "\n",
      "ATM Menu:\n",
      "1. Check Balance\n",
      "2. Deposit Money\n",
      "3. Withdraw Money\n",
      "4. Exit\n",
      "Enter your choice: 4\n",
      "Exiting...\n"
     ]
    }
   ],
   "source": [
    "def atm_menu(balance):\n",
    "    while True:\n",
    "        print(\"\\nATM Menu:\")\n",
    "        print(\"1. Check Balance\")\n",
    "        print(\"2. Deposit Money\")\n",
    "        print(\"3. Withdraw Money\")\n",
    "        print(\"4. Exit\")\n",
    "        choice = int(input(\"Enter your choice: \"))\n",
    "\n",
    "        if choice == 1:\n",
    "            print(f\"Your balance is: ${balance}\")\n",
    "        elif choice == 2:\n",
    "            amount = float(input(\"Enter amount to deposit: \"))\n",
    "            balance += amount\n",
    "            print(f\"Amount deposited. New balance: ${balance}\")\n",
    "        elif choice == 3:\n",
    "            amount = float(input(\"Enter amount to withdraw: \"))\n",
    "            if amount <= balance:\n",
    "                balance -= amount\n",
    "                print(f\"Amount withdrawn. New balance: ${balance}\")\n",
    "            else:\n",
    "                print(\"Insufficient balance\")\n",
    "        elif choice == 4:\n",
    "            print(\"Exiting...\")\n",
    "            break\n",
    "        else:\n",
    "            print(\"Invalid choice. Please try again.\")\n",
    "\n",
    "balance = 1000.0  # Initial balance\n",
    "atm_menu(balance)\n"
   ]
  },
  {
   "cell_type": "code",
   "execution_count": 46,
   "id": "15518313",
   "metadata": {},
   "outputs": [
    {
     "name": "stdout",
     "output_type": "stream",
     "text": [
      "Enter a string: lol\n",
      "Palindrome\n"
     ]
    }
   ],
   "source": [
    "def check_palindrome(s):\n",
    "    if s == s[::-1]:\n",
    "        return \"Palindrome\"\n",
    "    else:\n",
    "        return \"Not a palindrome\"\n",
    "\n",
    "s = input(\"Enter a string: \")\n",
    "print(check_palindrome(s))\n"
   ]
  },
  {
   "cell_type": "code",
   "execution_count": 47,
   "id": "918da3bc",
   "metadata": {},
   "outputs": [
    {
     "name": "stdout",
     "output_type": "stream",
     "text": [
      "Enter numbers separated by space: 1 2 3 4 5\n",
      "The average is: 3.0\n"
     ]
    }
   ],
   "source": [
    "def average_excluding_extremes(numbers):\n",
    "    if len(numbers) <= 2:\n",
    "        return \"Not enough numbers\"\n",
    "    numbers.sort()\n",
    "    return sum(numbers[1:-1]) / (len(numbers) - 2)\n",
    "\n",
    "numbers = list(map(float, input(\"Enter numbers separated by space: \").split()))\n",
    "print(\"The average is:\", average_excluding_extremes(numbers))\n"
   ]
  },
  {
   "cell_type": "code",
   "execution_count": 48,
   "id": "ac871f88",
   "metadata": {},
   "outputs": [
    {
     "name": "stdout",
     "output_type": "stream",
     "text": [
      "Enter temperature in Celsius: 32\n",
      "Temperature in Fahrenheit: 89.6\n"
     ]
    }
   ],
   "source": [
    "def celsius_to_fahrenheit(celsius):\n",
    "    return (celsius * 9/5) + 32\n",
    "\n",
    "celsius = float(input(\"Enter temperature in Celsius: \"))\n",
    "print(\"Temperature in Fahrenheit:\", celsius_to_fahrenheit(celsius))\n"
   ]
  },
  {
   "cell_type": "code",
   "execution_count": 49,
   "id": "2a92383a",
   "metadata": {},
   "outputs": [
    {
     "name": "stdout",
     "output_type": "stream",
     "text": [
      "Enter first number: 12\n",
      "Enter second number: 23\n",
      "Enter operation (+, -, *, /): +\n",
      "The result is: 35.0\n"
     ]
    }
   ],
   "source": [
    "def calculator(a, b, operation):\n",
    "    if operation == '+':\n",
    "        return a + b\n",
    "    elif operation == '-':\n",
    "        return a - b\n",
    "    elif operation == '*':\n",
    "        return a * b\n",
    "    elif operation == '/':\n",
    "        if b != 0:\n",
    "            return a / b\n",
    "        else:\n",
    "            return \"Division by zero error\"\n",
    "    else:\n",
    "        return \"Invalid operation\"\n",
    "\n",
    "a = float(input(\"Enter first number: \"))\n",
    "b = float(input(\"Enter second number: \"))\n",
    "operation = input(\"Enter operation (+, -, *, /): \")\n",
    "print(\"The result is:\", calculator(a, b, operation))\n"
   ]
  },
  {
   "cell_type": "code",
   "execution_count": 50,
   "id": "710ff7dd",
   "metadata": {},
   "outputs": [
    {
     "name": "stdout",
     "output_type": "stream",
     "text": [
      "Enter your income: 10000\n",
      "The income tax is: 1002.5\n"
     ]
    }
   ],
   "source": [
    "def calculate_tax(income):\n",
    "    if income <= 9875:\n",
    "        tax = income * 0.10\n",
    "    elif income <= 40125:\n",
    "        tax = 9875 * 0.10 + (income - 9875) * 0.12\n",
    "    elif income <= 85525:\n",
    "        tax = 9875 * 0.10 + (40125 - 9875) * 0.12 + (income - 40125) * 0.22\n",
    "    else:\n",
    "        tax = 9875 * 0.10 + (40125 - 9875) * 0.12 + (85525 - 40125) * 0.22 + (income - 85525) * 0.24\n",
    "    return tax\n",
    "\n",
    "income = float(input(\"Enter your income: \"))\n",
    "print(\"The income tax is:\", calculate_tax(income))\n"
   ]
  },
  {
   "cell_type": "code",
   "execution_count": 51,
   "id": "c5078420",
   "metadata": {},
   "outputs": [
    {
     "name": "stdout",
     "output_type": "stream",
     "text": [
      "Enter rock, paper, or scissors: rocl\n",
      "Computer chose: rock\n",
      "You lose!\n"
     ]
    }
   ],
   "source": [
    "import random\n",
    "\n",
    "def rock_paper_scissors(player_choice):\n",
    "    choices = [\"rock\", \"paper\", \"scissors\"]\n",
    "    computer_choice = random.choice(choices)\n",
    "    print(f\"Computer chose: {computer_choice}\")\n",
    "    if player_choice == computer_choice:\n",
    "        return \"It's a tie!\"\n",
    "    elif (player_choice == \"rock\" and computer_choice == \"scissors\") or \\\n",
    "         (player_choice == \"paper\" and computer_choice == \"rock\") or \\\n",
    "         (player_choice == \"scissors\" and computer_choice == \"paper\"):\n",
    "        return \"You win!\"\n",
    "    else:\n",
    "        return \"You lose!\"\n",
    "\n",
    "player_choice = input(\"Enter rock, paper, or scissors: \").lower()\n",
    "print(rock_paper_scissors(player_choice))\n"
   ]
  },
  {
   "cell_type": "code",
   "execution_count": 52,
   "id": "65ce8b4e",
   "metadata": {},
   "outputs": [
    {
     "name": "stdout",
     "output_type": "stream",
     "text": [
      "Enter the password length: 3\n",
      "Enter complexity level (1-4): 3\n",
      "Generated password: VbR\n"
     ]
    }
   ],
   "source": [
    "import random\n",
    "import string\n",
    "\n",
    "def generate_password(length, complexity):\n",
    "    if complexity == 1:\n",
    "        characters = string.ascii_lowercase\n",
    "    elif complexity == 2:\n",
    "        characters = string.ascii_letters\n",
    "    elif complexity == 3:\n",
    "        characters = string.ascii_letters + string.digits\n",
    "    elif complexity == 4:\n",
    "        characters = string.ascii_letters + string.digits + string.punctuation\n",
    "    else:\n",
    "        return \"Invalid complexity level\"\n",
    "\n",
    "    return ''.join(random.choice(characters) for _ in range(length))\n",
    "\n",
    "length = int(input(\"Enter the password length: \"))\n",
    "complexity = int(input(\"Enter complexity level (1-4): \"))\n",
    "print(\"Generated password:\", generate_password(length, complexity))\n"
   ]
  },
  {
   "cell_type": "code",
   "execution_count": 53,
   "id": "8e0c567d",
   "metadata": {},
   "outputs": [
    {
     "name": "stdout",
     "output_type": "stream",
     "text": [
      "Welcome to the adventure game!\n",
      "You are in a forest. Go left or right? left\n",
      "You encounter a river. Swim or build a raft? swim\n",
      "You swim across safely and find a treasure. You win!\n"
     ]
    }
   ],
   "source": [
    "def start_game():\n",
    "    print(\"Welcome to the adventure game!\")\n",
    "    choice1 = input(\"You are in a forest. Go left or right? \")\n",
    "    if choice1.lower() == \"left\":\n",
    "        choice2 = input(\"You encounter a river. Swim or build a raft? \")\n",
    "        if choice2.lower() == \"swim\":\n",
    "            print(\"You swim across safely and find a treasure. You win!\")\n",
    "        else:\n",
    "            print(\"While building the raft, you are attacked by wild animals. Game over.\")\n",
    "    else:\n",
    "        choice2 = input(\"You find a cave. Enter or go back? \")\n",
    "        if choice2.lower() == \"enter\":\n",
    "            print(\"You find a sleeping dragon. You carefully sneak past it and find a treasure. You win!\")\n",
    "        else:\n",
    "            print(\"You get lost in the forest. Game over.\")\n",
    "\n",
    "start_game()\n"
   ]
  },
  {
   "cell_type": "code",
   "execution_count": 54,
   "id": "dc2887df",
   "metadata": {},
   "outputs": [
    {
     "name": "stdout",
     "output_type": "stream",
     "text": [
      "Enter coefficient a: 2\n",
      "Enter coefficient b: 3\n",
      "The solution is x = -1.5\n"
     ]
    }
   ],
   "source": [
    "def solve_linear_equation(a, b):\n",
    "    if a == 0:\n",
    "        if b == 0:\n",
    "            return \"Infinite solutions\"\n",
    "        else:\n",
    "            return \"No solution\"\n",
    "    else:\n",
    "        return f\"The solution is x = {-b / a}\"\n",
    "\n",
    "a = float(input(\"Enter coefficient a: \"))\n",
    "b = float(input(\"Enter coefficient b: \"))\n",
    "print(solve_linear_equation(a, b))\n"
   ]
  },
  {
   "cell_type": "code",
   "execution_count": 55,
   "id": "ec232706",
   "metadata": {},
   "outputs": [
    {
     "name": "stdout",
     "output_type": "stream",
     "text": [
      "What is the capital of France?\n",
      "a) Berlin\n",
      "b) Paris\n",
      "c) Rome\n",
      "d) Madrid\n",
      "Your answer: b\n",
      "Which planet is known as the Red Planet?\n",
      "a) Earth\n",
      "b) Mars\n",
      "c) Jupiter\n",
      "d) Venus\n",
      "Your answer: b\n",
      "What is the largest ocean on Earth?\n",
      "a) Atlantic\n",
      "b) Indian\n",
      "c) Arctic\n",
      "d) Pacific\n",
      "Your answer: d\n",
      "Your score is 3/3\n"
     ]
    }
   ],
   "source": [
    "def quiz_game():\n",
    "    questions = {\n",
    "        \"What is the capital of France?\": [\"a) Berlin\", \"b) Paris\", \"c) Rome\", \"d) Madrid\"],\n",
    "        \"Which planet is known as the Red Planet?\": [\"a) Earth\", \"b) Mars\", \"c) Jupiter\", \"d) Venus\"],\n",
    "        \"What is the largest ocean on Earth?\": [\"a) Atlantic\", \"b) Indian\", \"c) Arctic\", \"d) Pacific\"]\n",
    "    }\n",
    "    answers = {\n",
    "        \"What is the capital of France?\": \"b\",\n",
    "        \"Which planet is known as the Red Planet?\": \"b\",\n",
    "        \"What is the largest ocean on Earth?\": \"d\"\n",
    "    }\n",
    "    score = 0\n",
    "\n",
    "    for question, options in questions.items():\n",
    "        print(question)\n",
    "        for option in options:\n",
    "            print(option)\n",
    "        answer = input(\"Your answer: \").lower()\n",
    "        if answer == answers[question]:\n",
    "            score += 1\n",
    "\n",
    "    print(f\"Your score is {score}/{len(questions)}\")\n",
    "\n",
    "quiz_game()\n"
   ]
  },
  {
   "cell_type": "code",
   "execution_count": 56,
   "id": "57616e17",
   "metadata": {},
   "outputs": [
    {
     "name": "stdout",
     "output_type": "stream",
     "text": [
      "Enter a year: 25\n",
      "25 is not a prime number\n"
     ]
    }
   ],
   "source": [
    "def is_prime(year):\n",
    "    if year <= 1:\n",
    "        return False\n",
    "    for i in range(2, int(year**0.5) + 1):\n",
    "        if year % i == 0:\n",
    "            return False\n",
    "    return True\n",
    "\n",
    "year = int(input(\"Enter a year: \"))\n",
    "print(f\"{year} is a prime number\" if is_prime(year) else f\"{year} is not a prime number\")\n"
   ]
  },
  {
   "cell_type": "code",
   "execution_count": 57,
   "id": "8e39a87a",
   "metadata": {},
   "outputs": [
    {
     "name": "stdout",
     "output_type": "stream",
     "text": [
      "Enter first number: 5\n",
      "Enter second number: 3\n",
      "Enter third number: 2\n",
      "The numbers in ascending order are: (2.0, 3.0, 5.0)\n"
     ]
    }
   ],
   "source": [
    "def sort_three_numbers(a, b, c):\n",
    "    if a > b:\n",
    "        a, b = b, a\n",
    "    if b > c:\n",
    "        b, c = c, b\n",
    "    if a > b:\n",
    "        a, b = b, a\n",
    "    return a, b, c\n",
    "\n",
    "a = float(input(\"Enter first number: \"))\n",
    "b = float(input(\"Enter second number: \"))\n",
    "c = float(input(\"Enter third number: \"))\n",
    "print(\"The numbers in ascending order are:\", sort_three_numbers(a, b, c))\n"
   ]
  },
  {
   "cell_type": "code",
   "execution_count": 58,
   "id": "0d74fe34",
   "metadata": {},
   "outputs": [
    {
     "name": "stdout",
     "output_type": "stream",
     "text": [
      "Enter your weight in kg: 19\n",
      "Enter your height in meters: 1.8\n",
      "BMI: 5.86 (Underweight)\n"
     ]
    }
   ],
   "source": [
    "def calculate_bmi(weight, height):\n",
    "    bmi = weight / (height ** 2)\n",
    "    if bmi < 18.5:\n",
    "        return f\"BMI: {bmi:.2f} (Underweight)\"\n",
    "    elif 18.5 <= bmi < 24.9:\n",
    "        return f\"BMI: {bmi:.2f} (Normal weight)\"\n",
    "    elif 25 <= bmi < 29.9:\n",
    "        return f\"BMI: {bmi:.2f} (Overweight)\"\n",
    "    else:\n",
    "        return f\"BMI: {bmi:.2f} (Obese)\"\n",
    "\n",
    "weight = float(input(\"Enter your weight in kg: \"))\n",
    "height = float(input(\"Enter your height in meters: \"))\n",
    "print(calculate_bmi(weight, height))\n"
   ]
  },
  {
   "cell_type": "code",
   "execution_count": 59,
   "id": "f53018e3",
   "metadata": {},
   "outputs": [
    {
     "name": "stdout",
     "output_type": "stream",
     "text": [
      "Enter a password: ahmedali2003\n",
      "Password must contain at least one uppercase letter\n"
     ]
    }
   ],
   "source": [
    "def validate_password(password):\n",
    "    if len(password) < 8:\n",
    "        return \"Password too short\"\n",
    "    if not any(char.isdigit() for char in password):\n",
    "        return \"Password must contain at least one digit\"\n",
    "    if not any(char.islower() for char in password):\n",
    "        return \"Password must contain at least one lowercase letter\"\n",
    "    if not any(char.isupper() for char in password):\n",
    "        return \"Password must contain at least one uppercase letter\"\n",
    "    if not any(char in '!@#$%^&*()_+' for char in password):\n",
    "        return \"Password must contain at least one special character\"\n",
    "    return \"Password is valid\"\n",
    "\n",
    "password = input(\"Enter a password: \")\n",
    "print(validate_password(password))\n"
   ]
  },
  {
   "cell_type": "code",
   "execution_count": 60,
   "id": "ae4f7e52",
   "metadata": {},
   "outputs": [
    {
     "name": "stdout",
     "output_type": "stream",
     "text": [
      "Matrix addition:\n",
      "[10, 10, 10]\n",
      "[10, 10, 10]\n",
      "[10, 10, 10]\n",
      "Matrix subtraction:\n",
      "[-8, -6, -4]\n",
      "[-2, 0, 2]\n",
      "[4, 6, 8]\n"
     ]
    }
   ],
   "source": [
    "def matrix_addition(matrix1, matrix2):\n",
    "    return [[matrix1[i][j] + matrix2[i][j] for j in range(len(matrix1[0]))] for i in range(len(matrix1))]\n",
    "\n",
    "def matrix_subtraction(matrix1, matrix2):\n",
    "    return [[matrix1[i][j] - matrix2[i][j] for j in range(len(matrix1[0]))] for i in range(len(matrix1))]\n",
    "\n",
    "matrix1 = [\n",
    "    [1, 2, 3],\n",
    "    [4, 5, 6],\n",
    "    [7, 8, 9]\n",
    "]\n",
    "\n",
    "matrix2 = [\n",
    "    [9, 8, 7],\n",
    "    [6, 5, 4],\n",
    "    [3, 2, 1]\n",
    "]\n",
    "\n",
    "print(\"Matrix addition:\")\n",
    "for row in matrix_addition(matrix1, matrix2):\n",
    "    print(row)\n",
    "\n",
    "print(\"Matrix subtraction:\")\n",
    "for row in matrix_subtraction(matrix1, matrix2):\n",
    "    print(row)\n"
   ]
  },
  {
   "cell_type": "code",
   "execution_count": 61,
   "id": "afa49c45",
   "metadata": {},
   "outputs": [
    {
     "name": "stdout",
     "output_type": "stream",
     "text": [
      "Enter first number: 3\n",
      "Enter second number: 5\n",
      "The GCD is: 1\n"
     ]
    }
   ],
   "source": [
    "def gcd(a, b):\n",
    "    while b:\n",
    "        a, b = b, a % b\n",
    "    return a\n",
    "\n",
    "a = int(input(\"Enter first number: \"))\n",
    "b = int(input(\"Enter second number: \"))\n",
    "print(\"The GCD is:\", gcd(a, b))\n"
   ]
  },
  {
   "cell_type": "code",
   "execution_count": 62,
   "id": "848ea06e",
   "metadata": {},
   "outputs": [
    {
     "name": "stdout",
     "output_type": "stream",
     "text": [
      "Matrix multiplication result:\n",
      "[58, 64]\n",
      "[139, 154]\n"
     ]
    }
   ],
   "source": [
    "def matrix_multiplication(matrix1, matrix2):\n",
    "    result = [[0 for _ in range(len(matrix2[0]))] for _ in range(len(matrix1))]\n",
    "    for i in range(len(matrix1)):\n",
    "        for j in range(len(matrix2[0])):\n",
    "            for k in range(len(matrix2)):\n",
    "                result[i][j] += matrix1[i][k] * matrix2[k][j]\n",
    "    return result\n",
    "\n",
    "matrix1 = [\n",
    "    [1, 2, 3],\n",
    "    [4, 5, 6]\n",
    "]\n",
    "\n",
    "matrix2 = [\n",
    "    [7, 8],\n",
    "    [9, 10],\n",
    "    [11, 12]\n",
    "]\n",
    "\n",
    "result = matrix_multiplication(matrix1, matrix2)\n",
    "print(\"Matrix multiplication result:\")\n",
    "for row in result:\n",
    "    print(row)\n"
   ]
  },
  {
   "cell_type": "code",
   "execution_count": 63,
   "id": "fa1d0204",
   "metadata": {},
   "outputs": [
    {
     "name": "stdout",
     "output_type": "stream",
     "text": [
      "Enter the number of terms: 6\n",
      "Fibonacci sequence: [0, 1, 1, 2, 3, 5]\n"
     ]
    }
   ],
   "source": [
    "def fibonacci(n):\n",
    "    fib_sequence = [0, 1]\n",
    "    for i in range(2, n):\n",
    "        fib_sequence.append(fib_sequence[-1] + fib_sequence[-2])\n",
    "    return fib_sequence[:n]\n",
    "\n",
    "n = int(input(\"Enter the number of terms: \"))\n",
    "print(\"Fibonacci sequence:\", fibonacci(n))\n"
   ]
  },
  {
   "cell_type": "code",
   "execution_count": 64,
   "id": "50a12ab8",
   "metadata": {},
   "outputs": [
    {
     "name": "stdout",
     "output_type": "stream",
     "text": [
      "Enter the term number: 5\n",
      "The 5th Fibonacci number is: 5\n"
     ]
    }
   ],
   "source": [
    "def fibonacci_memo(n, memo={}):\n",
    "    if n in memo:\n",
    "        return memo[n]\n",
    "    if n <= 1:\n",
    "        return n\n",
    "    memo[n] = fibonacci_memo(n-1, memo) + fibonacci_memo(n-2, memo)\n",
    "    return memo[n]\n",
    "\n",
    "n = int(input(\"Enter the term number: \"))\n",
    "print(f\"The {n}th Fibonacci number is:\", fibonacci_memo(n))\n"
   ]
  },
  {
   "cell_type": "code",
   "execution_count": 65,
   "id": "b1383689",
   "metadata": {},
   "outputs": [
    {
     "name": "stdout",
     "output_type": "stream",
     "text": [
      "Enter a number: 4\n",
      "Prime factors: [2, 2]\n"
     ]
    }
   ],
   "source": [
    "def prime_factors(n):\n",
    "    factors = []\n",
    "    divisor = 2\n",
    "    while n > 1:\n",
    "        while n % divisor == 0:\n",
    "            factors.append(divisor)\n",
    "            n //= divisor\n",
    "        divisor += 1\n",
    "    return factors\n",
    "\n",
    "n = int(input(\"Enter a number: \"))\n",
    "print(\"Prime factors:\", prime_factors(n))\n"
   ]
  },
  {
   "cell_type": "code",
   "execution_count": null,
   "id": "a546af02",
   "metadata": {},
   "outputs": [],
   "source": []
  }
 ],
 "metadata": {
  "kernelspec": {
   "display_name": "Python 3 (ipykernel)",
   "language": "python",
   "name": "python3"
  },
  "language_info": {
   "codemirror_mode": {
    "name": "ipython",
    "version": 3
   },
   "file_extension": ".py",
   "mimetype": "text/x-python",
   "name": "python",
   "nbconvert_exporter": "python",
   "pygments_lexer": "ipython3",
   "version": "3.11.5"
  }
 },
 "nbformat": 4,
 "nbformat_minor": 5
}
